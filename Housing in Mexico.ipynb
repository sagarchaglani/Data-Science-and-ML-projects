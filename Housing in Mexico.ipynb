{
 "cells": [
  {
   "cell_type": "markdown",
   "id": "c32f4d40-2a89-4df8-b391-9890bf16ce29",
   "metadata": {},
   "source": [
    "# PROJECT NO 1\n",
    " In this assignment, you'll work with a dataset of homes for sale in Brazil. Your goal is to determine if there are regional differences in the real estate market. Also, you will look at southern Brazil to see if there is a relationship between home size and price, similar to what you saw with housing in some states in Mexico.\n",
    "\n",
    "**Before you start:** Import the libraries you'll use in this notebook: Matplotlib, pandas, and plotly. Be sure to import them under the aliases we've used in this project."
   ]
  },
  {
   "cell_type": "code",
   "execution_count": 1,
   "id": "59865cb7-6c5a-4aa3-8225-572ec45f75fc",
   "metadata": {},
   "outputs": [],
   "source": [
    "# Import Matplotlib, pandas, and plotly\n",
    "import pandas as pd\n",
    "import matplotlib.pyplot as plt\n",
    "import plotly.express as px"
   ]
  },
  {
   "cell_type": "markdown",
   "id": "2099a47f-8940-4da3-8d91-a51a0fc5493b",
   "metadata": {},
   "source": [
    "# Prepare Data\r\n",
    "In this assignment, you'll work with real estate data from Brazil. In the data directory for this project there are two CSV that you need to import and clean, one-by-one.\r\n",
    "\r\n",
    "Import\r\n",
    "First, you are going to import and clean the data in data/brasil-real-estate-1.csme df1."
   ]
  },
  {
   "cell_type": "markdown",
   "id": "9d8638c6-0e2d-4dc7-a856-fc6f9e1cf41c",
   "metadata": {},
   "source": [
    "**Task 1.5.1:** Import the CSV file data/brasil-real-estate-1.csv into the DataFrame df1"
   ]
  },
  {
   "cell_type": "code",
   "execution_count": null,
   "id": "cd4ed7d2-929f-4490-97cc-0fa9e2eedb27",
   "metadata": {},
   "outputs": [],
   "source": [
    "df1 = pd.read_csv(\"data/brasil-real-estate-1.csv\")\n",
    "df1.head()"
   ]
  },
  {
   "cell_type": "markdown",
   "id": "5fbcd18a-c020-4fe2-b727-97c191635635",
   "metadata": {},
   "source": [
    "**Task 1.5.2:** Drop all rows with NaN values from the DataFrame df1."
   ]
  },
  {
   "cell_type": "code",
   "execution_count": null,
   "id": "709625c3-3dca-4d44-9bcf-0dbcbef1f8ea",
   "metadata": {},
   "outputs": [],
   "source": [
    "df1.dropna(inplace=True)"
   ]
  },
  {
   "cell_type": "markdown",
   "id": "6849099e-2007-4409-bc1b-92c3d44f0904",
   "metadata": {},
   "source": [
    "**Task 1.5.3:** Use the \"lat-lon\" column to create two separate columns in df1: \"lat\" and \"lon\". Make sure that the data type for these new columns is float\n"
   ]
  },
  {
   "cell_type": "code",
   "execution_count": null,
   "id": "8b5f2f70-82bb-4b58-9e0d-f4cccfc38c94",
   "metadata": {},
   "outputs": [],
   "source": [
    "df1[[\"lat\",\"lon\"]]=df1[\"lat-lon\"].str.split(\",\",expand=True).astype(float)\n"
   ]
  },
  {
   "cell_type": "markdown",
   "id": "c2a230f4-779c-4842-b3d6-857f2a717a08",
   "metadata": {},
   "source": [
    "**Task 1.5.4:** Use the \"place_with_parent_names\" column to create a \"state\" column for df1. (Note that the state name always appears after \"|Brasil|\" in each string.)"
   ]
  },
  {
   "cell_type": "code",
   "execution_count": null,
   "id": "95c4b9e3-2ea7-4dcc-a5e5-c8657dab3693",
   "metadata": {},
   "outputs": [],
   "source": [
    "df1[\"state\"]=df1[\"place_with_parent_names\"].str.split(\"|\",expand=True)[2]\n"
   ]
  },
  {
   "cell_type": "markdown",
   "id": "32fd4e07-7430-43b0-93a6-b9582295de51",
   "metadata": {},
   "source": [
    "**Task 1.5.5:** Transform the \"price_usd\" column of df1 so that all values are floating-point numbers instead of strings"
   ]
  },
  {
   "cell_type": "code",
   "execution_count": null,
   "id": "ff2d029d-6b08-41be-bddb-ecee7b29e792",
   "metadata": {},
   "outputs": [],
   "source": [
    "df1[\"price_usd\"]=df1[\"price_usd\"].str.replace(\"$\",\"\",regex=True).str.replace(\",\",\"\",regex=True).astype(float)\n"
   ]
  },
  {
   "cell_type": "markdown",
   "id": "a93d067c-f202-4ab2-9e3e-a9fbcf8a86ce",
   "metadata": {},
   "source": [
    "**Task 1.5.6:** Drop the \"lat-lon\" and \"place_with_parent_names\" columns from df1."
   ]
  },
  {
   "cell_type": "code",
   "execution_count": null,
   "id": "96f9ac66-a99e-411f-9ba7-699393c31e6b",
   "metadata": {},
   "outputs": [],
   "source": [
    "df1.drop(columns=[\"lat-lon\",\"place_with_parent_names\"],inplace=True)"
   ]
  },
  {
   "cell_type": "markdown",
   "id": "cb936147-298e-4465-986b-4d41f25993e8",
   "metadata": {},
   "source": [
    "**Task 1.5.7:** Import the CSV file brasil-real-estate-2.csv into the DataFrame df2."
   ]
  },
  {
   "cell_type": "code",
   "execution_count": null,
   "id": "645edff8-c777-4fe7-aed4-4a64949ff79c",
   "metadata": {},
   "outputs": [],
   "source": [
    "df2 = pd.read_csv(\"data/brasil-real-estate-2.csv\")"
   ]
  },
  {
   "cell_type": "markdown",
   "id": "1d48a6a0-d0ec-4548-afa1-d1cbe1220aaa",
   "metadata": {},
   "source": [
    "**Task 1.5.8:** Use the \"price_brl\" column to create a new column named \"price_usd\". (Keep in mind that, when this data was collected in 2015 and 2016, a US dollar cost 3.19 Brazilian reals.)"
   ]
  },
  {
   "cell_type": "code",
   "execution_count": null,
   "id": "2dbc53d0-afdc-4cbb-8760-764fff94088e",
   "metadata": {},
   "outputs": [],
   "source": [
    "df2[\"price_usd\"]=(df2[\"price_brl\"]/3.19).round(2)"
   ]
  },
  {
   "cell_type": "markdown",
   "id": "bac982d8-f77b-4bdf-9480-822168736d48",
   "metadata": {},
   "source": [
    "**Task 1.5.9:** Drop the \"price_brl\" column from df2, as well as any rows that have NaN values."
   ]
  },
  {
   "cell_type": "code",
   "execution_count": null,
   "id": "09854a6a-e81f-4fe4-8221-17b50835c327",
   "metadata": {},
   "outputs": [],
   "source": [
    "df2.drop(columns=[\"price_brl\"],inplace=True)\n",
    "df2.dropna(inplace=True)\n"
   ]
  },
  {
   "cell_type": "markdown",
   "id": "75636ba7-975e-415c-985c-cc9d85c38f41",
   "metadata": {},
   "source": [
    "**Task 1.5.10:** Concatenate df1 and df2 to create a new DataFrame named df."
   ]
  },
  {
   "cell_type": "code",
   "execution_count": null,
   "id": "3a784716-01cb-44fd-9e14-64bc899736a6",
   "metadata": {},
   "outputs": [],
   "source": [
    "df = pd.concat([df1,df2])\n",
    "print(\"df shape:\", df.shape)"
   ]
  },
  {
   "cell_type": "markdown",
   "id": "685737f5-441c-41e1-bb0a-d5056513debb",
   "metadata": {},
   "source": [
    "# Explore\n",
    "It's time to start exploring your data. In this section, you'll use your new data visualization skills to learn more about the regional differences in the Brazilian real estate market.\n",
    "\n",
    "Complete the code below to create a scatter_mapbox showing the location of the properties in df.WQU WorldQuant Universit"
   ]
  },
  {
   "cell_type": "code",
   "execution_count": null,
   "id": "82f5a526-6d4c-436b-bbba-ec2c842d5f18",
   "metadata": {},
   "outputs": [],
   "source": [
    "fig = px.scatter_mapbox(\n",
    "    df,\n",
    "    lat=\"lat\",\n",
    "    lon=\"lon\",\n",
    "    center={\"lat\": -14.2, \"lon\": -51.9},  # Map will be centered on Brazil\n",
    "    width=900,\n",
    "    height=600,\n",
    "    hover_data=[\"price_usd\"],  # Display price when hovering mouse over house\n",
    ")\n",
    "\n",
    "fig.update_layout(mapbox_style=\"open-street-map\")\n",
    "\n",
    "fig.show()"
   ]
  },
  {
   "cell_type": "markdown",
   "id": "2915e03b-c2d7-4151-97f2-5f72df868053",
   "metadata": {},
   "source": [
    "**Task 1.5.11:** Use the describe method to create a DataFrame summary_stats with the summary statistics for the \"area_m2\" and \"price_usd\" columns."
   ]
  },
  {
   "cell_type": "code",
   "execution_count": null,
   "id": "7cdea061-281a-4c47-b530-be1466e73776",
   "metadata": {},
   "outputs": [],
   "source": [
    "summary_stats = df[[\"area_m2\",\"price_usd\"]].describe()\n",
    "summary_stats"
   ]
  },
  {
   "cell_type": "markdown",
   "id": "77dbf492-2907-41b9-8174-2416570d0c8c",
   "metadata": {},
   "source": [
    "**Task 1.5.12:** Create a histogram of \"price_usd\". Make sure that the x-axis has the label \"Price [USD]\", the y-axis has the label \"Frequency\", and the plot has the title \"Distribution of Home Prices\". Use Matplotlib (plt)."
   ]
  },
  {
   "cell_type": "code",
   "execution_count": null,
   "id": "f7388892-6202-486b-8f54-e9e150e2fa8b",
   "metadata": {},
   "outputs": [],
   "source": [
    "# Build histogram\n",
    "plt.hist(df[\"price_usd\"])\n",
    "\n",
    "\n",
    "# Label axes\n",
    "plt.xlabel(\"Price [USD]\")\n",
    "plt.ylabel(\"Frequency\")\n",
    "# Add title\n",
    "plt.title(\"Distribution of Home Prices\")\n",
    "\n",
    "# Don't change the code below 👇\n",
    "plt.savefig(\"images/1-5-12.png\", dpi=150)\n"
   ]
  },
  {
   "cell_type": "markdown",
   "id": "c416120f-0393-4be7-9124-1119be71677f",
   "metadata": {},
   "source": [
    "**Task 1.5.13:** Create a horizontal boxplot of \"area_m2\". Make sure that the x-axis has the label \"Area [sq meters]\" and the plot has the title \"Distribution of Home Sizes\". Use Matplotlib (plt)."
   ]
  },
  {
   "cell_type": "code",
   "execution_count": null,
   "id": "6f50c746-ce08-4be1-8e5f-3d39f40d2201",
   "metadata": {},
   "outputs": [],
   "source": [
    "# Build box plot\n",
    "plt.boxplot(df[\"area_m2\"],vert=False)\n",
    "\n",
    "\n",
    "# Label x-axis\n",
    "plt.xlabel(\"Area [sq meters]\")\n",
    "\n",
    "# Add title\n",
    "plt.title(\"Distribution of Home Sizes\")\n",
    "\n",
    "# Don't change the code below 👇\n",
    "plt.savefig(\"images/1-5-13.png\", dpi=150)\n"
   ]
  },
  {
   "cell_type": "markdown",
   "id": "678bdd68-b8f0-4b97-a8ce-6db389396dd6",
   "metadata": {},
   "source": [
    "**Task 1.5.14:** Use the groupby method to create a Series named mean_price_by_region that shows the mean home price in each region in Brazil, sorted from smallest to largest."
   ]
  },
  {
   "cell_type": "code",
   "execution_count": null,
   "id": "50ac07c3-24b6-46c8-a43c-ec98964d59f4",
   "metadata": {},
   "outputs": [],
   "source": [
    "mean_price_by_region = df.groupby(\"region\")[\"price_usd\"].mean().sort_values(ascending=True)\n",
    "mean_price_by_region"
   ]
  },
  {
   "cell_type": "markdown",
   "id": "39e908b5-126d-4157-9c2d-1251ab38f12e",
   "metadata": {},
   "source": [
    "**Task 1.5.15:** Use mean_price_by_region to create a bar chart. Make sure you label the x-axis as \"Region\" and the y-axis as \"Mean Price [USD]\", and give the chart the title \"Mean Home Price by Region\". Use pandas."
   ]
  },
  {
   "cell_type": "code",
   "execution_count": null,
   "id": "17ad474c-9b47-4cfa-9f67-91d9c05f5a43",
   "metadata": {},
   "outputs": [],
   "source": [
    "# Build bar chart, label axes, add title\n",
    "mean_price_by_region.plot(\n",
    "    kind = \"bar\",\n",
    "    xlabel = \"Region\",\n",
    "    ylabel = \"Mean Price [USD]\",\n",
    "    title = \"Mean Home Price by Region \"\n",
    ")\n",
    "\n",
    "# Don't change the code below 👇\n",
    "plt.savefig(\"images/1-5-15.png\", dpi=150)\n"
   ]
  },
  {
   "cell_type": "markdown",
   "id": "6f2d1c59-a213-4e05-93f8-85d6270a8f29",
   "metadata": {},
   "source": [
    "**Task 1.5.16:** Create a DataFrame df_south that contains all the homes from df that are in the \"South\" region."
   ]
  },
  {
   "cell_type": "code",
   "execution_count": null,
   "id": "f7474e23-f120-44c0-b08c-ee89a67808fd",
   "metadata": {},
   "outputs": [],
   "source": [
    "df_south = df[df[\"region\"]==\"South\"]\n",
    "df_south.head()"
   ]
  },
  {
   "cell_type": "markdown",
   "id": "b343b1e0-bf62-403d-b9ce-96b59b6f7761",
   "metadata": {},
   "source": [
    "**Task 1.5.17:** Use the value_counts method to create a Series homes_by_state that contains the number of properties in each state in df_south."
   ]
  },
  {
   "cell_type": "code",
   "execution_count": null,
   "id": "19b499cf-c163-4b4e-b19c-b40f4208afd2",
   "metadata": {},
   "outputs": [],
   "source": [
    "homes_by_state = df_south['state'].value_counts()\n",
    "homes_by_state"
   ]
  },
  {
   "cell_type": "markdown",
   "id": "e8f14598-2624-49f9-9c21-ce9831ac6041",
   "metadata": {},
   "source": [
    "**Task 1.5.18:** Create a scatter plot showing price vs. area for the state in df_south that has the largest number of properties. Be sure to label the x-axis \"Area [sq meters]\" and the y-axis \"Price [USD]\"; and use the title \"<name of state>: Price vs. Area\". Use Matplotlib (plt).\n",
    "\n",
    "Tip: You should replace <name of state> with the name of the state that has the largest number of properties."
   ]
  },
  {
   "cell_type": "code",
   "execution_count": null,
   "id": "3bd5990b-a6e9-4397-9ee5-2fd1c5c728f9",
   "metadata": {},
   "outputs": [],
   "source": [
    "# Subset data\n",
    "df_south_rgs = df_south[df_south['state'] == 'Rio Grande do Sul']\n",
    "\n",
    "# Build scatter plot\n",
    "plt.scatter(x =df_south_rgs[\"area_m2\"],y = df_south_rgs[\"price_usd\"] )\n",
    "\n",
    "\n",
    "# Label axes\n",
    "plt.xlabel(\"Area [sq meters]\")\n",
    "plt.ylabel(\"Price [USD]\")\n",
    "plt.title(\"Rio Grande do Sul: Price vs. Area]\")\n",
    "\n",
    "# Add title\n",
    "plt.title(\"Rio Grande do Sul: Price vs. Area\")\n",
    "\n",
    "# Don't change the code below 👇\n",
    "plt.savefig(\"images/1-5-18.png\", dpi=150)\n"
   ]
  },
  {
   "cell_type": "markdown",
   "id": "272ccc77-2bf4-48a3-a94a-93ad22b1314f",
   "metadata": {},
   "source": [
    "**Task 1.5.19:** Create a dictionary south_states_corr, where the keys are the names of the three states in the \"South\" region of Brazil, and their associated values are the correlation coefficient between \"area_m2\" and \"price_usd\" in that state.\n",
    "\n",
    "As an example, here's a dictionary with the states and correlation coefficients for the Southeast region. Since you're looking at a different region, the states and coefficients will be different, but the structure of the dictionary will be the same.\n",
    "\n",
    "{'Espírito Santo': 0.6311332554173303,\n",
    " 'Minas Gerais': 0.5830029036378931,\n",
    " 'Rio de Janeiro': 0.4554077103515366,\n",
    " 'São Paulo': 0.45882050624839366}"
   ]
  },
  {
   "cell_type": "code",
   "execution_count": null,
   "id": "0841b76d-27d8-4326-ba21-6253c868fafe",
   "metadata": {},
   "outputs": [],
   "source": [
    "corr1 = df_south[df_south[\"state\"]==\"Rio Grande do Sul\"]\n",
    "p = corr1[\"area_m2\"].corr(corr1[\"price_usd\"])\n",
    "corr2 = df_south[df_south[\"state\"]==\"Santa Catarina\"]\n",
    "p2 = corr2[\"area_m2\"].corr(corr2[\"price_usd\"])\n",
    "corr3 = df_south[df_south[\"state\"]==\"Paraná\"]\n",
    "p3 = corr3[\"area_m2\"].corr(corr3[\"price_usd\"])\n",
    "\n",
    "print(p,p2,p3)"
   ]
  },
  {
   "cell_type": "code",
   "execution_count": null,
   "id": "cab04e65-0a49-4662-b565-6e32ea7c4f6c",
   "metadata": {},
   "outputs": [],
   "source": [
    "south_states_corr = {\n",
    "    \"Rio Grande do Sul\": 0.5773267433871903,\n",
    "    \"Santa Catarina\": 0.5068121769989853,\n",
    "    \"Paraná\":0.5436659935502659 \n",
    "    \n",
    "    \n",
    "}\n",
    "\n",
    "south_states_corr"
   ]
  }
 ],
 "metadata": {
  "kernelspec": {
   "display_name": "Python 3 (ipykernel)",
   "language": "python",
   "name": "python3"
  },
  "language_info": {
   "codemirror_mode": {
    "name": "ipython",
    "version": 3
   },
   "file_extension": ".py",
   "mimetype": "text/x-python",
   "name": "python",
   "nbconvert_exporter": "python",
   "pygments_lexer": "ipython3",
   "version": "3.12.4"
  }
 },
 "nbformat": 4,
 "nbformat_minor": 5
}
