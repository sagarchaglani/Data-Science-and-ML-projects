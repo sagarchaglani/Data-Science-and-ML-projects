{
 "cells": [
  {
   "cell_type": "markdown",
   "id": "4eb24b33-a6da-4ebe-aaf9-b487029a5448",
   "metadata": {},
   "source": [
    "<font size=\"+3\"><strong>2.5. Predicting Apartment Prices in Mexico City 🇲🇽</strong></font>"
   ]
  },
  {
   "cell_type": "code",
   "execution_count": null,
   "id": "77605b7d-320d-46db-a079-5f32b9374625",
   "metadata": {},
   "outputs": [],
   "source": [
    "# Import libraries here\n",
    "import pandas as pd\n",
    "import matplotlib.pyplot as plt\n",
    "from glob import glob\n",
    "import seaborn as sns\n",
    "from category_encoders import OneHotEncoder\n",
    "from sklearn.impute import SimpleImputer\n",
    "from sklearn.linear_model import LinearRegression, Ridge  # noqa F401\n",
    "from sklearn.metrics import mean_absolute_error\n",
    "from sklearn.pipeline import make_pipeline\n",
    "import plotly.express as px"
   ]
  },
  {
   "cell_type": "markdown",
   "id": "6428a916-16c9-413e-9398-c70bc000c4aa",
   "metadata": {},
   "source": [
    "# Prepare Data"
   ]
  },
  {
   "cell_type": "markdown",
   "id": "70abaa21-469d-457a-96e4-01256c63361c",
   "metadata": {},
   "source": [
    "## Import"
   ]
  },
  {
   "cell_type": "markdown",
   "id": "e7bd4134-e295-4014-a97c-36e2e605c22d",
   "metadata": {},
   "source": [
    "**Task 2.5.1:** Write a `wrangle` function that takes the name of a CSV file as input and returns a DataFrame. The function should do the following steps:\n",
    "\n",
    "1. Subset the data in the CSV file and return only apartments in Mexico City (`\"Distrito Federal\"`) that cost less than \\$100,000.\n",
    "2. Remove outliers by trimming the bottom and top 10\\% of properties in terms of `\"surface_covered_in_m2\"`.\n",
    "3. Create separate `\"lat\"` and `\"lon\"` columns.\n",
    "4. Mexico City is divided into [15 boroughs](https://en.wikipedia.org/wiki/Boroughs_of_Mexico_City). Create a `\"borough\"` feature from the `\"place_with_parent_names\"` column.\n",
    "5. Drop columns that are more than 50\\% null values.\n",
    "6. Drop columns containing low- or high-cardinality categorical values. \n",
    "7. Drop any columns that would constitute leakage for the target `\"price_aprox_usd\"`.\n",
    "8. Drop any columns that would create issues of multicollinearity. \n",
    "\n",
    "<div class=\"alert alert-block alert-info\">\n",
    "<b>Tip:</b> Don't try to satisfy all the criteria in the first version of your <code>wrangle</code> function. Instead, work iteratively. Start with the first criteria, test it out with one of the Mexico CSV files in the <code>data/</code> directory, and submit it to the grader for feedback. Then add the next criteria.</div>"
   ]
  },
  {
   "cell_type": "code",
   "execution_count": null,
   "id": "71b42a9e-97fb-45bb-ab53-4a034a74682b",
   "metadata": {},
   "outputs": [],
   "source": [
    "# Build your `wrangle` function\n",
    "def wrangle(filepath):\n",
    "    df = pd.read_csv(filepath)\n",
    "    # subset the data and return only aprtments in mexico city \"Distrito Federal\"\n",
    "    \n",
    "    mask_ba = df[\"place_with_parent_names\"].str.contains(\"Distrito Federal\")\n",
    "    # subset only the apartment\n",
    "    \n",
    "    mask_apt = (df[\"property_type\"]  == \"apartment\")\n",
    "    \n",
    "    # subset the apartments that cost less than $100,00\n",
    "    \n",
    "    mask_price = df[\"price_aprox_usd\"] < 100000\n",
    "    df = df[mask_ba & mask_apt & mask_price]\n",
    "    \n",
    "    # Remove outliers by trimming the bottom and top 10% of properties in terms of \"surface_covered_in_m2\"\n",
    "    \n",
    "    low,high = df[\"surface_covered_in_m2\"].quantile([0.1,0.9])\n",
    "    mask_area = df['surface_covered_in_m2'].between(low,high)\n",
    "    df = df[mask_area]\n",
    "    \n",
    "    #Create separate \"lat\" and \"lon\" columns.\n",
    "    \n",
    "    df[[\"lat\",\"lon\"]]=df[\"lat-lon\"].str.split(\",\" , expand = True).astype(float)\n",
    "    df.drop(columns = [\"lat-lon\"], inplace = True)\n",
    "    \n",
    "    # Mexico City is divided into 15 boroughs. Create a \"borough\" feature from the \"place_with_parent_names\" column.\n",
    "    \n",
    "    df[\"borough\"]=df[\"place_with_parent_names\"].str.split(\"|\" , expand = True)[1]\n",
    "    df.drop(columns = [\"place_with_parent_names\"],inplace = True)\n",
    "    \n",
    "    #Drop columns that are more than 50% null values.\n",
    "    \n",
    "    df.drop(columns = [\"price_usd_per_m2\", \n",
    "    \"floor\",\n",
    "    \"rooms\",\n",
    "    \"expenses\",\n",
    "    \"surface_total_in_m2\" ],inplace = True)\n",
    "    \n",
    "    #Drop columns containing low- or high-cardinality categorical values.\n",
    "    \n",
    "    df.drop(columns = [\"operation\",\"property_type\",\"currency\",\"properati_url\"],inplace = True)\n",
    "    \n",
    "    # Drop any columns that would constitute leakage for the target \"price_aprox_usd\".\n",
    "    \n",
    "    df.drop(columns = [\"price_aprox_local_currency\",\"price\",\"price_per_m2\"], inplace = True)\n",
    "    return df"
   ]
  },
  {
   "cell_type": "code",
   "execution_count": null,
   "id": "b230c652-57ec-4a4c-aa34-2665738a91bc",
   "metadata": {},
   "outputs": [],
   "source": [
    "# Use this cell to test your wrangle function and explore the data\n",
    "df = wrangle(\"data/mexico-city-real-estate-1.csv\")\n",
    "df.shape"
   ]
  },
  {
   "cell_type": "code",
   "execution_count": null,
   "id": "529e26e4-f831-42d7-89cc-a7ef199cb769",
   "metadata": {},
   "outputs": [],
   "source": [
    "corr = df.select_dtypes(\"number\").drop(columns = \"price_aprox_usd\").corr()\n",
    "sns.heatmap(corr)"
   ]
  },
  {
   "cell_type": "markdown",
   "id": "d23522c6-f46e-4c22-a117-c16bb65f5f06",
   "metadata": {},
   "source": [
    "**Task 2.5.2:** Use glob to create the list `files`. It should contain the filenames of all the Mexico City real estate CSVs in the `./data` directory, except for `mexico-city-test-features.csv`."
   ]
  },
  {
   "cell_type": "code",
   "execution_count": null,
   "id": "b2926c90-0781-4fca-a9d8-9e7017213908",
   "metadata": {},
   "outputs": [],
   "source": [
    "files = glob(\"data/mexico-city-real-estate-*.csv\")\n",
    "files"
   ]
  },
  {
   "cell_type": "markdown",
   "id": "064d4dcf-a317-45cf-90c3-b386b1704552",
   "metadata": {},
   "source": [
    "\n",
    "**Task 2.5.3:** Combine your `wrangle` function, a list comprehension, and `pd.concat` to create a DataFrame `df`. It should contain all the properties from the five CSVs in `files`. "
   ]
  },
  {
   "cell_type": "code",
   "execution_count": null,
   "id": "da291c45-0b1a-49d8-8ce3-b8385c0c2df0",
   "metadata": {},
   "outputs": [],
   "source": [
    "frames = [wrangle(file) for file in files]\n",
    "df = pd.concat(frames)"
   ]
  },
  {
   "cell_type": "markdown",
   "id": "803c9222-65d5-43aa-9576-dc1b7fa774c6",
   "metadata": {},
   "source": [
    "## Explore"
   ]
  },
  {
   "cell_type": "markdown",
   "id": "a13964f7-2870-477a-b4b0-8b1883ab68b3",
   "metadata": {},
   "source": [
    "**Task 2.5.4:** Create a histogram showing the distribution of apartment prices (`\"price_aprox_usd\"`) in `df`. Be sure to label the x-axis `\"Price [$]\"`, the y-axis `\"Count\"`, and give it the title `\"Distribution of Apartment Prices\"`. Use Matplotlib (`plt`).\n",
    "\n",
    "What does the distribution of price look like? Is the data normal, a little skewed, or very skewed?"
   ]
  },
  {
   "cell_type": "code",
   "execution_count": null,
   "id": "a9c6f2b4-e913-492d-82db-3839732ef402",
   "metadata": {},
   "outputs": [],
   "source": [
    "skewness = df['price_aprox_usd'].skew()\n",
    "print(skewness)\n"
   ]
  },
  {
   "cell_type": "code",
   "execution_count": null,
   "id": "ad3986d8-741c-48d5-914e-8d9373dc6b6d",
   "metadata": {},
   "outputs": [],
   "source": [
    "# Build histogram\n",
    "plt.hist(df[\"price_aprox_usd\"])\n",
    "\n",
    "\n",
    "# Label axes\n",
    "\n",
    "plt.xlabel(\"Price [$]\")\n",
    "plt.ylabel(\"count\")\n",
    "# Add title\n",
    "plt.title(\"Distribution of Apartment Prices\")\n",
    "\n",
    "# Don't delete the code below 👇\n",
    "plt.savefig(\"images/2-5-4.png\", dpi=150)\n"
   ]
  },
  {
   "cell_type": "markdown",
   "id": "8a17a717-a4b4-4880-8d74-5e32a274ac4c",
   "metadata": {},
   "source": [
    "**Task 2.5.5:** Create a scatter plot that shows apartment price (`\"price_aprox_usd\"`) as a function of apartment size (`\"surface_covered_in_m2\"`). Be sure to label your x-axis `\"Area [sq meters]\"` and y-axis `\"Price [USD]\"`. Your plot should have the title `\"Mexico City: Price vs. Area\"`. Use Matplotlib (`plt`)."
   ]
  },
  {
   "cell_type": "code",
   "execution_count": null,
   "id": "9c8f9480-e61e-49f3-b9d8-64f5cdebc9a6",
   "metadata": {},
   "outputs": [],
   "source": [
    "# Build scatter plot\n",
    "plt.scatter(x = df[\"surface_covered_in_m2\"] , y = df[\"price_aprox_usd\"] )\n",
    "\n",
    "\n",
    "# Label axes\n",
    "plt.xlabel(\"Area [sq meters]\")\n",
    "plt.ylabel(\"Price [USD]\")\n",
    "# Add title\n",
    "plt.title(\"Mexico City: Price vs. Area\")\n",
    "\n",
    "# Don't delete the code below 👇\n",
    "plt.savefig(\"images/2-5-5.png\", dpi=150)\n"
   ]
  },
  {
   "cell_type": "markdown",
   "id": "a09ec9b9-246e-4e01-8042-667dd4c301d7",
   "metadata": {},
   "source": [
    "**Task 2.5.6:** **(UNGRADED)** Create a Mapbox scatter plot that shows the location of the apartments in your dataset and represent their price using color. \n",
    "\n",
    "What areas of the city seem to have higher real estate prices?"
   ]
  },
  {
   "cell_type": "code",
   "execution_count": null,
   "id": "7d1905de-e9e4-464f-90f0-333daf5faff4",
   "metadata": {},
   "outputs": [],
   "source": [
    "import plotly.express as px\n",
    "\n",
    "# Create a scatter mapbox plot\n",
    "fig = px.scatter_mapbox(\n",
    "    df,\n",
    "    lat='lat',\n",
    "    lon='lon',\n",
    "    color='price_aprox_usd',  # Color by price\n",
    "    color_continuous_scale=px.colors.sequential.Plasma,  # Choose a color scale\n",
    "    size='price_aprox_usd',  # Size points based on price (optional)\n",
    "    size_max=10,\n",
    "    height = 600,# Max size of points\n",
    "    zoom=12,  # Adjust the zoom level\n",
    "    mapbox_style='carto-positron'  # Choose a Mapbox style\n",
    ")\n",
    "\n",
    "# Set your Mapbox access token\n",
    "fig.update_layout(mapbox_accesstoken='your_mapbox_access_token')\n",
    "\n",
    "# Show the map\n",
    "fig.show()\n"
   ]
  },
  {
   "cell_type": "markdown",
   "id": "6df6012c-1d16-4058-bbde-e5ad95677230",
   "metadata": {},
   "source": [
    "## Split"
   ]
  },
  {
   "cell_type": "markdown",
   "id": "3b660551-6ea5-4c0b-86b5-488b8e43cfd9",
   "metadata": {},
   "source": [
    "**Task 2.5.7:** Create your feature matrix `X_train` and target vector `y_train`. Your target is `\"price_aprox_usd\"`. Your features should be all the columns that remain in the DataFrame you cleaned above."
   ]
  },
  {
   "cell_type": "code",
   "execution_count": null,
   "id": "e5ea632c-edf0-466a-ab4a-e675b9ec96ce",
   "metadata": {},
   "outputs": [],
   "source": [
    "# Split data into feature matrix `X_train` and target vector `y_train`.\n",
    "features = ['surface_covered_in_m2', 'lat', 'lon', 'borough']\n",
    "target = \"price_aprox_usd\"\n",
    "X_train = df[features]\n",
    "y_train = df[target]"
   ]
  },
  {
   "cell_type": "markdown",
   "id": "685eef81-8c55-4ef2-8ebd-6219c9b3206f",
   "metadata": {},
   "source": [
    "# Build Model"
   ]
  },
  {
   "cell_type": "markdown",
   "id": "98f88807-3fde-4c2e-8625-6306db04a19a",
   "metadata": {},
   "source": [
    "## Baseline"
   ]
  },
  {
   "cell_type": "markdown",
   "id": "2d1b21b6-9acc-4f0c-9a1c-64538706dec1",
   "metadata": {},
   "source": [
    "**Task 2.5.8:** Calculate the baseline mean absolute error for your model."
   ]
  },
  {
   "cell_type": "code",
   "execution_count": null,
   "id": "c39d4dc4-7ee8-4198-8414-519303d6a237",
   "metadata": {},
   "outputs": [],
   "source": [
    "y_mean = y_train.mean()\n",
    "y_pred_baseline = [y_mean]*len(y_train)\n",
    "baseline_mae = mean_absolute_error(y_train,y_pred_baseline)\n",
    "print(\"Mean apt price:\", y_mean)\n",
    "print(\"Baseline MAE:\", baseline_mae)"
   ]
  },
  {
   "cell_type": "markdown",
   "id": "667b1c46-a542-449c-acde-52974c1c08a1",
   "metadata": {},
   "source": [
    "## Iterate"
   ]
  },
  {
   "cell_type": "markdown",
   "id": "3d947290-7240-426d-9081-08cb7c9a33cb",
   "metadata": {},
   "source": [
    "**Task 2.5.9:** Create a pipeline named `model` that contains all the transformers necessary for this dataset and one of the predictors you've used during this project. Then fit your model to the training data."
   ]
  },
  {
   "cell_type": "code",
   "execution_count": null,
   "id": "c95e083c-eb44-444f-9bb3-e83e4abe0d80",
   "metadata": {},
   "outputs": [],
   "source": [
    "# Build Model\n",
    "model = make_pipeline(\n",
    "    OneHotEncoder(use_cat_names=True),\n",
    "    SimpleImputer(),\n",
    "    Ridge()\n",
    ")\n",
    "model.fit(X_train,y_train)\n",
    "# Fit model\n"
   ]
  },
  {
   "cell_type": "markdown",
   "id": "e5a051cb-48db-4e92-84fd-5b8f17da7acd",
   "metadata": {},
   "source": [
    "## Evaluate"
   ]
  },
  {
   "cell_type": "markdown",
   "id": "8bd9e5c8-a781-4ce4-bb93-4945896285bb",
   "metadata": {},
   "source": [
    "**Task 2.5.10:** Read the CSV file `mexico-city-test-features.csv` into the DataFrame `X_test`."
   ]
  },
  {
   "cell_type": "code",
   "execution_count": null,
   "id": "3015a097-d7bd-47fa-a8f8-91a6d3694fe6",
   "metadata": {},
   "outputs": [],
   "source": [
    "X_test = pd.read_csv(\"data/mexico-city-test-features.csv\")\n",
    "print(X_test.info())\n",
    "X_test.head()"
   ]
  },
  {
   "cell_type": "markdown",
   "id": "64f0cdae-22a5-4e91-9ced-583ebc766988",
   "metadata": {},
   "source": [
    "**Task 2.5.11:** Use your model to generate a Series of predictions for `X_test`. When you submit your predictions to the grader, it will calculate the mean absolute error for your model."
   ]
  },
  {
   "cell_type": "code",
   "execution_count": null,
   "id": "4f7c26d8-2136-4232-925f-d03b31b53321",
   "metadata": {},
   "outputs": [],
   "source": [
    "y_test_pred = pd.Series(model.predict(X_test))\n",
    "y_test_pred.head()"
   ]
  },
  {
   "cell_type": "markdown",
   "id": "89d33954-4261-48c6-a87a-eb5fc4e31206",
   "metadata": {},
   "source": [
    "# Communicate Results"
   ]
  },
  {
   "cell_type": "markdown",
   "id": "7043a7e9-283f-45c1-bcea-fb937fd5ad3a",
   "metadata": {},
   "source": [
    "**Task 2.5.12:** Create a Series named `feat_imp`. The index should contain the names of all the features your model considers when making predictions; the values should be the coefficient values associated with each feature. The Series should be sorted ascending by absolute value.  "
   ]
  },
  {
   "cell_type": "code",
   "execution_count": null,
   "id": "cd9a6ef3-d0e1-41b8-a963-60277a7bdfdc",
   "metadata": {},
   "outputs": [],
   "source": [
    "features = X_train.columns  # Get feature names from DataFrame\n",
    "\n",
    "# Check the lengths\n",
    "print(\"Number of coefficients:\", len(coefficients))\n",
    "print(\"Number of features:\", len(features))"
   ]
  },
  {
   "cell_type": "code",
   "execution_count": null,
   "id": "12bda332-0564-4640-8ffd-78b618ae12f8",
   "metadata": {},
   "outputs": [],
   "source": [
    "coefficients = model.named_steps[\"ridge\"].coef_\n",
    "\n",
    "intercept = model.named_steps[\"ridge\"].intercept_\n",
    "features = model.named_steps[\"onehotencoder\"].get_feature_names()\n",
    "\n",
    "feat_imp =  pd.Series(coefficients, index=features)\n",
    "feat_imp"
   ]
  },
  {
   "cell_type": "markdown",
   "id": "2afeec47-d3bc-4de0-b9e5-1fe57f16e3f8",
   "metadata": {},
   "source": [
    "**Task 2.5.13:** Create a horizontal bar chart that shows the **10 most influential** coefficients for your model. Be sure to label your x- and y-axis `\"Importance [USD]\"` and `\"Feature\"`, respectively, and give your chart the title `\"Feature Importances for Apartment Price\"`. Use pandas. "
   ]
  },
  {
   "cell_type": "code",
   "execution_count": null,
   "id": "b5fe96cc-3fbc-4a50-b2f0-47750a5efe74",
   "metadata": {},
   "outputs": [],
   "source": [
    "top_features = feat_imp.abs().nlargest(10)\n",
    "top_features"
   ]
  },
  {
   "cell_type": "code",
   "execution_count": null,
   "id": "ed48c8df-d638-448f-b9e4-fc2cc4424dc6",
   "metadata": {},
   "outputs": [],
   "source": [
    "# Build bar chart\n",
    "\n",
    "top_features.plot(kind='barh', color='skyblue', figsize=(10, 6))\n",
    "\n",
    "\n",
    "#op_features = feat_imp.abs().nlargest(10)\n",
    "\n",
    "# Build bar chart\n",
    "top_features.plot(kind='barh', color='skyblue', figsize=(10, 6))\n",
    "\n",
    "# Label axes\n",
    "plt.xlabel('Importance [USD]')\n",
    "plt.ylabel('Feature')\n",
    "\n",
    "# Add title\n",
    "plt.title('Feature Importances for Apartment Price')\n",
    "\n",
    "# Show the plot\n",
    "plt.show()\n",
    "\n",
    "# Don't delete the code below 👇\n",
    "plt.savefig(\"images/2-5-13.png\", dpi=150)"
   ]
  },
  {
   "cell_type": "code",
   "execution_count": null,
   "id": "2d3c279c-dab4-4031-a606-efe5f54be739",
   "metadata": {},
   "outputs": [],
   "source": []
  },
  {
   "cell_type": "code",
   "execution_count": null,
   "id": "bc9d6613-3771-44c5-984a-36ce542d5c3a",
   "metadata": {},
   "outputs": [],
   "source": []
  },
  {
   "cell_type": "code",
   "execution_count": null,
   "id": "a5e9e5bd-9d0b-4a52-8246-19d1b0afd335",
   "metadata": {},
   "outputs": [],
   "source": []
  },
  {
   "cell_type": "code",
   "execution_count": null,
   "id": "3474eb5b-0ff4-4a24-bbe0-cc8fc4235572",
   "metadata": {},
   "outputs": [],
   "source": []
  }
 ],
 "metadata": {
  "kernelspec": {
   "display_name": "Python 3 (ipykernel)",
   "language": "python",
   "name": "python3"
  },
  "language_info": {
   "codemirror_mode": {
    "name": "ipython",
    "version": 3
   },
   "file_extension": ".py",
   "mimetype": "text/x-python",
   "name": "python",
   "nbconvert_exporter": "python",
   "pygments_lexer": "ipython3",
   "version": "3.12.4"
  }
 },
 "nbformat": 4,
 "nbformat_minor": 5
}
